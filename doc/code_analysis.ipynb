{
 "cells": [
  {
   "cell_type": "code",
   "execution_count": 8,
   "metadata": {},
   "outputs": [],
   "source": [
    "import os, sys\n",
    "sys.path.append(os.path.abspath(os.path.dirname(os.getcwd())))"
   ]
  },
  {
   "cell_type": "markdown",
   "metadata": {},
   "source": [
    "# data_helper"
   ]
  },
  {
   "cell_type": "markdown",
   "metadata": {},
   "source": [
    "## 源代码"
   ]
  },
  {
   "cell_type": "code",
   "execution_count": 12,
   "metadata": {
    "code_folding": [
     12,
     33,
     53,
     66,
     85,
     102,
     122,
     164
    ]
   },
   "outputs": [],
   "source": [
    "\n",
    "import numpy as np\n",
    "import re\n",
    "from sklearn.datasets import fetch_20newsgroups\n",
    "from sklearn.datasets import load_files\n",
    "import yaml\n",
    "\n",
    "with open(r\"D:\\lauyu\\work\\FeiMedia\\text_classification\\cnn-text-classification-tf\\config.yml\", 'r') as ymlfile:\n",
    "    cfg = yaml.load(ymlfile)\n",
    "dataset_name = cfg[\"datasets\"][\"default\"]\n",
    "\n",
    "\n",
    "def clean_str(string):\n",
    "    \"\"\"\n",
    "    Tokenization/string cleaning for all datasets except for SST.\n",
    "    Original taken from https://github.com/yoonkim/CNN_sentence/blob/master/process_data.py\n",
    "    \"\"\"\n",
    "    string = re.sub(r\"[^A-Za-z0-9(),!?\\'\\`]\", \" \", string)\n",
    "    string = re.sub(r\"\\'s\", \" \\'s\", string)\n",
    "    string = re.sub(r\"\\'ve\", \" \\'ve\", string)\n",
    "    string = re.sub(r\"n\\'t\", \" n\\'t\", string)\n",
    "    string = re.sub(r\"\\'re\", \" \\'re\", string)\n",
    "    string = re.sub(r\"\\'d\", \" \\'d\", string)\n",
    "    string = re.sub(r\"\\'ll\", \" \\'ll\", string)\n",
    "    string = re.sub(r\",\", \" , \", string)\n",
    "    string = re.sub(r\"!\", \" ! \", string)\n",
    "    string = re.sub(r\"\\(\", \" \\( \", string)\n",
    "    string = re.sub(r\"\\)\", \" \\) \", string)\n",
    "    string = re.sub(r\"\\?\", \" \\? \", string)\n",
    "    string = re.sub(r\"\\s{2,}\", \" \", string)\n",
    "    return string.strip().lower()\n",
    "\n",
    "\n",
    "def batch_iter(data, batch_size, num_epochs, shuffle=True):\n",
    "    \"\"\"\n",
    "    Generates a batch iterator for a dataset.\n",
    "    \"\"\"\n",
    "    data = np.array(data)\n",
    "    data_size = len(data)\n",
    "    num_batches_per_epoch = int((len(data)-1)/batch_size) + 1\n",
    "    for epoch in range(num_epochs):\n",
    "        # Shuffle the data at each epoch\n",
    "        if shuffle:\n",
    "            shuffle_indices = np.random.permutation(np.arange(data_size))\n",
    "            shuffled_data = data[shuffle_indices]\n",
    "        else:\n",
    "            shuffled_data = data\n",
    "        for batch_num in range(num_batches_per_epoch):\n",
    "            start_index = batch_num * batch_size\n",
    "            end_index = min((batch_num + 1) * batch_size, data_size)\n",
    "            yield shuffled_data[start_index:end_index]\n",
    "\n",
    "\n",
    "def get_datasets_20newsgroup(subset='train', categories=None, shuffle=True, random_state=42):\n",
    "    \"\"\"\n",
    "    Retrieve data from 20 newsgroups\n",
    "    :param subset: train, test or all\n",
    "    :param categories: List of newsgroup name\n",
    "    :param shuffle: shuffle the list or not\n",
    "    :param random_state: seed integer to shuffle the dataset\n",
    "    :return: data and labels of the newsgroup\n",
    "    \"\"\"\n",
    "    datasets = fetch_20newsgroups(subset=subset, categories=categories, shuffle=shuffle, random_state=random_state)\n",
    "    return datasets\n",
    "\n",
    "\n",
    "def get_datasets_mrpolarity(positive_data_file, negative_data_file):\n",
    "    \"\"\"\n",
    "    Loads MR polarity data from files, splits the data into words and generates labels.\n",
    "    Returns split sentences and labels.\n",
    "    \"\"\"\n",
    "    # Load data from files\n",
    "    positive_examples = list(open(positive_data_file, \"r\", encoding='latin-1').readlines())\n",
    "    positive_examples = [s.strip() for s in positive_examples]\n",
    "    negative_examples = list(open(negative_data_file, \"r\", encoding='latin-1').readlines())\n",
    "    negative_examples = [s.strip() for s in negative_examples]\n",
    "\n",
    "    datasets = dict()\n",
    "    datasets['data'] = positive_examples + negative_examples\n",
    "    target = [0 for _ in positive_examples] + [1 for _ in negative_examples]\n",
    "    datasets['target'] = target\n",
    "    datasets['target_names'] = ['positive_examples', 'negative_examples']\n",
    "    return datasets\n",
    "\n",
    "\n",
    "def get_datasets_localdata(container_path=None, categories=None, load_content=True,\n",
    "                       encoding='latin-1', shuffle=True, random_state=42):\n",
    "    \"\"\"\n",
    "    Load text files with categories as subfolder names.\n",
    "    Individual samples are assumed to be files stored a two levels folder structure.\n",
    "    :param container_path: The path of the container\n",
    "    :param categories: List of classes to choose, all classes are chosen by default (if empty or omitted)\n",
    "    :param shuffle: shuffle the list or not\n",
    "    :param random_state: seed integer to shuffle the dataset\n",
    "    :return: data and labels of the dataset\n",
    "    \"\"\"\n",
    "    datasets = load_files(container_path=container_path, categories=categories,\n",
    "                          load_content=load_content, shuffle=shuffle, encoding=encoding,\n",
    "                          random_state=random_state)\n",
    "    return datasets\n",
    "\n",
    "\n",
    "def load_data_labels(datasets):\n",
    "    \"\"\"\n",
    "    Load data and labels\n",
    "    :param datasets:\n",
    "    :return:\n",
    "    \"\"\"\n",
    "    # Split by words\n",
    "    x_text = datasets['data']\n",
    "    if dataset_name != \"localdata\":\n",
    "        x_text = [clean_str(sent) for sent in x_text]\n",
    "    # Generate labels\n",
    "    labels = []\n",
    "    for i in range(len(x_text)):\n",
    "        label = [0 for _ in datasets['target_names']]\n",
    "        label[datasets['target'][i]] = 1\n",
    "        labels.append(label)\n",
    "    y = np.array(labels)\n",
    "    return [x_text, y]\n",
    "\n",
    "\n",
    "def load_embedding_vectors_word2vec(vocabulary, filename, binary):\n",
    "    # load embedding_vectors from the word2vec\n",
    "    encoding = 'utf-8'\n",
    "    with open(filename, \"rb\") as f:\n",
    "        header = f.readline()\n",
    "        vocab_size, vector_size = map(int, header.split())\n",
    "        # initial matrix with random uniform\n",
    "        embedding_vectors = np.random.uniform(-0.25, 0.25, (len(vocabulary), vector_size))\n",
    "        if binary:\n",
    "            binary_len = np.dtype('float32').itemsize * vector_size\n",
    "            for line_no in range(vocab_size):\n",
    "                word = []\n",
    "                while True:\n",
    "                    ch = f.read(1)\n",
    "                    if ch == b' ':\n",
    "                        break\n",
    "                    if ch == b'':\n",
    "                        raise EOFError(\"unexpected end of input; is count incorrect or file otherwise damaged?\")\n",
    "                    if ch != b'\\n':\n",
    "                        word.append(ch)\n",
    "                word = str(b''.join(word), encoding=encoding, errors='strict')\n",
    "                idx = vocabulary.get(word)\n",
    "                if idx != 0:\n",
    "                    embedding_vectors[idx] = np.fromstring(f.read(binary_len), dtype='float32')\n",
    "                else:\n",
    "                    f.seek(binary_len, 1)\n",
    "        else:\n",
    "            for line_no in range(vocab_size):\n",
    "                line = f.readline()\n",
    "                if line == b'':\n",
    "                    raise EOFError(\"unexpected end of input; is count incorrect or file otherwise damaged?\")\n",
    "                parts = str(line.rstrip(), encoding=encoding, errors='strict').split(\" \")\n",
    "                if len(parts) != vector_size + 1:\n",
    "                    raise ValueError(\"invalid vector on line %s (is this really the text format?)\" % (line_no))\n",
    "                word, vector = parts[0], list(map('float32', parts[1:]))\n",
    "                idx = vocabulary.get(word)\n",
    "                if idx != 0:\n",
    "                    embedding_vectors[idx] = vector\n",
    "        f.close()\n",
    "        return embedding_vectors\n",
    "\n",
    "\n",
    "def load_embedding_vectors_glove(vocabulary, filename, vector_size):\n",
    "    # load embedding_vectors from the glove\n",
    "    # initial matrix with random uniform\n",
    "    embedding_vectors = np.random.uniform(-0.25, 0.25, (len(vocabulary), vector_size))\n",
    "    f = open(filename)\n",
    "    for line in f:\n",
    "        values = line.split()\n",
    "        word = values[0]\n",
    "        vector = np.asarray(values[1:], dtype=\"float32\")\n",
    "        idx = vocabulary.get(word)\n",
    "        if idx != 0:\n",
    "            embedding_vectors[idx] = vector\n",
    "    f.close()\n",
    "    return embedding_vectors"
   ]
  },
  {
   "cell_type": "code",
   "execution_count": 15,
   "metadata": {},
   "outputs": [],
   "source": [
    "datasets = get_datasets_localdata(container_path=r'D:\\lauyu\\work\\FeiMedia\\text_classification\\cnn-text-classification-tf\\data\\id_data',\n",
    "                                                     categories=cfg[\"datasets\"][dataset_name][\"categories\"],\n",
    "                                                     shuffle=cfg[\"datasets\"][dataset_name][\"shuffle\"],\n",
    "                                                     random_state=cfg[\"datasets\"][dataset_name][\"random_state\"])\n",
    "x_text, y = load_data_labels(datasets)"
   ]
  },
  {
   "cell_type": "code",
   "execution_count": 21,
   "metadata": {},
   "outputs": [
    {
     "data": {
      "text/plain": [
       "array([3, 3, 2, 2, 2, 2, 2, 2, 3, 2])"
      ]
     },
     "execution_count": 21,
     "metadata": {},
     "output_type": "execute_result"
    }
   ],
   "source": [
    "datasets.target[:10]"
   ]
  },
  {
   "cell_type": "code",
   "execution_count": 24,
   "metadata": {},
   "outputs": [
    {
     "data": {
      "text/plain": [
       "['BodyCare', 'Fashion', 'make_up', 'skin_care']"
      ]
     },
     "execution_count": 24,
     "metadata": {},
     "output_type": "execute_result"
    }
   ],
   "source": [
    "datasets.target_names"
   ]
  },
  {
   "cell_type": "code",
   "execution_count": 25,
   "metadata": {},
   "outputs": [],
   "source": [
    "x_text = datasets['data']\n",
    "if dataset_name != \"localdata\":\n",
    "    x_text = [clean_str(sent) for sent in x_text]\n",
    "# Generate labels\n",
    "labels = []\n",
    "for i in range(len(x_text)):\n",
    "    label = [0 for _ in datasets['target_names']]\n",
    "    label[datasets['target'][i]] = 1\n",
    "    labels.append(label)\n",
    "y = np.array(labels)"
   ]
  },
  {
   "cell_type": "code",
   "execution_count": 31,
   "metadata": {
    "collapsed": true
   },
   "outputs": [
    {
     "name": "stderr",
     "output_type": "stream",
     "text": [
      "D:\\Program Files\\Anaconda3\\lib\\site-packages\\h5py\\__init__.py:36: FutureWarning: Conversion of the second argument of issubdtype from `float` to `np.floating` is deprecated. In future, it will be treated as `np.float64 == np.dtype(float).type`.\n",
      "  from ._conv import register_converters as _register_converters\n"
     ]
    },
    {
     "name": "stdout",
     "output_type": "stream",
     "text": [
      "WARNING:tensorflow:From <ipython-input-31-5d1d9f05c364>:3: VocabularyProcessor.__init__ (from tensorflow.contrib.learn.python.learn.preprocessing.text) is deprecated and will be removed in a future version.\n",
      "Instructions for updating:\n",
      "Please use tensorflow/transform or tf.data.\n",
      "WARNING:tensorflow:From D:\\Program Files\\Anaconda3\\lib\\site-packages\\tensorflow\\contrib\\learn\\python\\learn\\preprocessing\\text.py:154: CategoricalVocabulary.__init__ (from tensorflow.contrib.learn.python.learn.preprocessing.categorical_vocabulary) is deprecated and will be removed in a future version.\n",
      "Instructions for updating:\n",
      "Please use tensorflow/transform or tf.data.\n",
      "WARNING:tensorflow:From D:\\Program Files\\Anaconda3\\lib\\site-packages\\tensorflow\\contrib\\learn\\python\\learn\\preprocessing\\text.py:170: tokenizer (from tensorflow.contrib.learn.python.learn.preprocessing.text) is deprecated and will be removed in a future version.\n",
      "Instructions for updating:\n",
      "Please use tensorflow/transform or tf.data.\n"
     ]
    }
   ],
   "source": [
    "from tensorflow.contrib import learn\n",
    "max_document_length = max([len(x.split(\" \")) for x in x_text])\n",
    "vocab_processor = learn.preprocessing.VocabularyProcessor(max_document_length)\n",
    "x = np.array(list(vocab_processor.fit_transform(x_text)))"
   ]
  },
  {
   "cell_type": "code",
   "execution_count": 38,
   "metadata": {},
   "outputs": [
    {
     "data": {
      "text/plain": [
       "'serum seaweed yang bisa jadi primer plus pelembab dari wardah beli wardah nature daily primary skin hydrating booster ini karena kena rayuan dari beauty advisor di guardian kebetulan memang pelembab wajah gue itu udah abis jadi gue kepikiran untuk beli nih karena ada kandungan hydraboost formula dan hyaluronic acid yang ngebuat kulit gue jadi lembut dan lembab terus ada kandungan seaweednya yang ngebantu menjaga kulit wajah gue biar ga terlalu kering ataupun terlalu oily gue beli sekitar dua bulan lalu harganya di bawah 50ribu masih tetep gue pake sampe sekarang karena gue udah terlanjur suka sama produk ini gue baru sadar sebenernya produk ini bukan hanya sekadar pelembab biasa tapi hydrating booster which is ini ngasih benefit lebih banyak dari pelembab biasa untuk membuat kulit gue lebih kenyal dan sehat uniknya finish dari pemakaian produk ini sticky gitu so i think it will be good to be my primer why not muka gue jadi lembab plus makeup gue jadi tahan lama kann texture nya agak kentel tapi watery base dan langsung menyerap gitu ke kulit wajah gue dan menurut gue setiap gue lagi breakout atau purging suka gue pakai juga nih dan besokannya langsung mendingan cuma sayang aja nih cara ngeluarin produknya agak ribet karena harus di tuang gitu jadi suka kebanyakan product yang keluar coba kalau dia spray atau pump pasti jadi lebih mudah pemakaiannya menurut gue but untuk formula dan manfaat sih gue suka banget dia ngasih efek melembapkan finishnya agak sticky jadi bisa dijadiin primer juga yang bikin makeup gue lebih nempel multifungsi bangettt'"
      ]
     },
     "execution_count": 38,
     "metadata": {},
     "output_type": "execute_result"
    }
   ],
   "source": [
    "x_text[1]"
   ]
  },
  {
   "cell_type": "code",
   "execution_count": 39,
   "metadata": {},
   "outputs": [],
   "source": [
    "import math\n",
    "\n",
    "max_learning_rate = 0.005\n",
    "min_learning_rate = 0.0001\n",
    "decay_speed = 5\n",
    "counter = 0\n",
    "x = list(range(20000))\n",
    "y = []\n",
    "for i in x:\n",
    "    learning_rate = min_learning_rate + (max_learning_rate - min_learning_rate) * math.exp(-i/decay_speed)\n",
    "    y.append(learning_rate)"
   ]
  },
  {
   "cell_type": "code",
   "execution_count": 41,
   "metadata": {},
   "outputs": [
    {
     "data": {
      "image/png": "[encoded data removed]",
      "text/plain": [
       "<Figure size 720x720 with 1 Axes>"
      ]
     },
     "metadata": {
      "needs_background": "light"
     },
     "output_type": "display_data"
    }
   ],
   "source": [
    "import matplotlib.pyplot as plt\n",
    "\n",
    "plt.figure(figsize=(10,10))\n",
    "plt.plot(x, y, linewidth=2)\n",
    "plt.show()"
   ]
  },
  {
   "cell_type": "code",
   "execution_count": null,
   "metadata": {},
   "outputs": [],
   "source": []
  }
 ],
 "metadata": {
  "kernelspec": {
   "display_name": "Python 3",
   "language": "python",
   "name": "python3"
  },
  "language_info": {
   "codemirror_mode": {
    "name": "ipython",
    "version": 3
   },
   "file_extension": ".py",
   "mimetype": "text/x-python",
   "name": "python",
   "nbconvert_exporter": "python",
   "pygments_lexer": "ipython3",
   "version": "3.6.5"
  },
  "toc": {
   "base_numbering": 1,
   "nav_menu": {},
   "number_sections": true,
   "sideBar": true,
   "skip_h1_title": false,
   "title_cell": "Table of Contents",
   "title_sidebar": "Contents",
   "toc_cell": false,
   "toc_position": {},
   "toc_section_display": true,
   "toc_window_display": false
  }
 },
 "nbformat": 4,
 "nbformat_minor": 1
}
